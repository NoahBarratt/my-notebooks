{
  "nbformat": 4,
  "nbformat_minor": 0,
  "metadata": {
    "colab": {
      "name": "My First Notebook",
      "provenance": [],
      "authorship_tag": "ABX9TyPkqosfVjkQpifvP1CLjPTD",
      "include_colab_link": true
    },
    "kernelspec": {
      "name": "python3",
      "display_name": "Python 3"
    },
    "language_info": {
      "name": "python"
    }
  },
  "cells": [
    {
      "cell_type": "markdown",
      "metadata": {
        "id": "view-in-github",
        "colab_type": "text"
      },
      "source": [
        "<a href=\"https://colab.research.google.com/github/NoahBarratt/my-notebooks/blob/main/My_First_Notebook.ipynb\" target=\"_parent\"><img src=\"https://colab.research.google.com/assets/colab-badge.svg\" alt=\"Open In Colab\"/></a>"
      ]
    },
    {
      "cell_type": "code",
      "metadata": {
        "id": "0FSKLiTI6HQb"
      },
      "source": [
        ""
      ],
      "execution_count": null,
      "outputs": []
    },
    {
      "cell_type": "markdown",
      "metadata": {
        "id": "sL4LzvNn66zg"
      },
      "source": [
        "# My First Notebook!\n",
        "\n",
        "This is a text cell. It uses the markdown language. The line above is a heading, starting with the # sign. Don't be confused that # means something different in .md and .py files.\n",
        "\n",
        "We can make links like [this](https://github.com/prof-rossetti/intro-to-python).\n",
        "\n",
        "And lists too:\n",
        "\n",
        "  + Item 1\n",
        "  + Item 2\n",
        "  + Item 3\n",
        "\n",
        "For more information about Markdown syntax, see the [Markdown Guide](https://guides.github.com/pdfs/markdown-cheatsheet-online.pdf).\n"
      ]
    },
    {
      "cell_type": "code",
      "metadata": {
        "colab": {
          "base_uri": "https://localhost:8080/"
        },
        "id": "999OZhaa7V-6",
        "outputId": "a645504d-c0e2-4d40-b2f5-9b9217177c11"
      },
      "source": [
        "# This is some example python code\n",
        "# These lines starting with # are \"comments\"\n",
        "# Don't be confused that # means something different in .md files than .py files\n",
        "\n",
        "print(\"HELLO WORLD!\")\n",
        "\n",
        "x = 2 + 2\n",
        "print(x)\n"
      ],
      "execution_count": 1,
      "outputs": [
        {
          "output_type": "stream",
          "name": "stdout",
          "text": [
            "HELLO WORLD!\n",
            "4\n"
          ]
        }
      ]
    },
    {
      "cell_type": "code",
      "metadata": {
        "colab": {
          "base_uri": "https://localhost:8080/"
        },
        "id": "-UrfxsDt8RZi",
        "outputId": "a885a94a-ed04-42a7-d4f0-deca0eca631c"
      },
      "source": [
        "x = 9 * 9\n",
        "print(x)\n",
        "y = (\"eighty-one\")\n",
        "print (y)\n",
        "print (9 * 9)\n",
        "x = 9 * 9\n",
        "print(x)\n",
        "y = (\"eighty-one\")\n",
        "print (y)\n",
        "print (9 * 9)\n",
        "x = 9 * 9\n",
        "print(x)\n",
        "y = (\"eighty-one\")\n",
        "print (y)\n",
        "print (9 * 9)\n",
        "x = 9 * 9\n",
        "print(x)\n",
        "y = (\"eighty-one\")\n",
        "print (y)\n",
        "print (9 * 9)\n",
        "x = 9 * 9\n",
        "print(x)\n",
        "y = (\"eighty-one\")\n",
        "print (y)\n",
        "print (9 * 9)\n",
        "x = 9 * 9\n",
        "print(x)\n",
        "y = (\"eighty-one\")\n",
        "print (y)\n",
        "print (9 * 9)"
      ],
      "execution_count": 6,
      "outputs": [
        {
          "output_type": "stream",
          "name": "stdout",
          "text": [
            "81\n",
            "eighty-one\n",
            "81\n",
            "81\n",
            "eighty-one\n",
            "81\n",
            "81\n",
            "eighty-one\n",
            "81\n",
            "81\n",
            "eighty-one\n",
            "81\n",
            "81\n",
            "eighty-one\n",
            "81\n",
            "81\n",
            "eighty-one\n",
            "81\n"
          ]
        }
      ]
    }
  ]
}